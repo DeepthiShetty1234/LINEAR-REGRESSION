{
 "cells": [
  {
   "cell_type": "code",
   "execution_count": 77,
   "id": "cde6e871",
   "metadata": {},
   "outputs": [],
   "source": [
    "import pandas as pd\n",
    "import numpy as np\n",
    "import matplotlib.pyplot as plt\n",
    "import math\n",
    "from sklearn.model_selection import train_test_split\n",
    "from sklearn.linear_model import LogisticRegression\n",
    "from sklearn.metrics import classification_report\n",
    "from sklearn.metrics import confusion_matrix,accuracy_score\n"
   ]
  },
  {
   "cell_type": "code",
   "execution_count": 78,
   "id": "51eac669",
   "metadata": {},
   "outputs": [
    {
     "data": {
      "text/plain": [
       "{'x': [1, 2, 3, 4, 5, 6, 7], 'y': [1.5, 3.8, 6.7, 9.6, 11.2, 13.6, 16]}"
      ]
     },
     "execution_count": 78,
     "metadata": {},
     "output_type": "execute_result"
    }
   ],
   "source": [
    "data={\n",
    "    \"x\":list(range(1,8)),\n",
    "    \"y\":[1.5,3.8,6.7,9.6,11.2,13.6,16]\n",
    "}\n",
    "data"
   ]
  },
  {
   "cell_type": "markdown",
   "id": "36be2afa",
   "metadata": {},
   "source": [
    "## Finding m\n",
    "\n",
    "$$\\frac{(n*\\sum_{i=0}^{n}Xi+Yi- \\sum_{i-n}^{n}X*\\sum_{i-n}^{n}Y)}{(n*\\sum_{i-0}^{n}X^2)-( \\sum_{i-0}^{n}X)^2}$$"
   ]
  },
  {
   "cell_type": "code",
   "execution_count": 79,
   "id": "42e826ae",
   "metadata": {},
   "outputs": [
    {
     "data": {
      "text/html": [
       "<div>\n",
       "<style scoped>\n",
       "    .dataframe tbody tr th:only-of-type {\n",
       "        vertical-align: middle;\n",
       "    }\n",
       "\n",
       "    .dataframe tbody tr th {\n",
       "        vertical-align: top;\n",
       "    }\n",
       "\n",
       "    .dataframe thead th {\n",
       "        text-align: right;\n",
       "    }\n",
       "</style>\n",
       "<table border=\"1\" class=\"dataframe\">\n",
       "  <thead>\n",
       "    <tr style=\"text-align: right;\">\n",
       "      <th></th>\n",
       "      <th>x</th>\n",
       "      <th>y</th>\n",
       "    </tr>\n",
       "  </thead>\n",
       "  <tbody>\n",
       "    <tr>\n",
       "      <th>0</th>\n",
       "      <td>1</td>\n",
       "      <td>1.5</td>\n",
       "    </tr>\n",
       "    <tr>\n",
       "      <th>1</th>\n",
       "      <td>2</td>\n",
       "      <td>3.8</td>\n",
       "    </tr>\n",
       "    <tr>\n",
       "      <th>2</th>\n",
       "      <td>3</td>\n",
       "      <td>6.7</td>\n",
       "    </tr>\n",
       "    <tr>\n",
       "      <th>3</th>\n",
       "      <td>4</td>\n",
       "      <td>9.6</td>\n",
       "    </tr>\n",
       "    <tr>\n",
       "      <th>4</th>\n",
       "      <td>5</td>\n",
       "      <td>11.2</td>\n",
       "    </tr>\n",
       "    <tr>\n",
       "      <th>5</th>\n",
       "      <td>6</td>\n",
       "      <td>13.6</td>\n",
       "    </tr>\n",
       "    <tr>\n",
       "      <th>6</th>\n",
       "      <td>7</td>\n",
       "      <td>16.0</td>\n",
       "    </tr>\n",
       "  </tbody>\n",
       "</table>\n",
       "</div>"
      ],
      "text/plain": [
       "   x     y\n",
       "0  1   1.5\n",
       "1  2   3.8\n",
       "2  3   6.7\n",
       "3  4   9.6\n",
       "4  5  11.2\n",
       "5  6  13.6\n",
       "6  7  16.0"
      ]
     },
     "execution_count": 79,
     "metadata": {},
     "output_type": "execute_result"
    }
   ],
   "source": [
    "df=pd.DataFrame(data=data)\n",
    "df\n"
   ]
  },
  {
   "cell_type": "code",
   "execution_count": 80,
   "id": "a416dbd9",
   "metadata": {},
   "outputs": [
    {
     "data": {
      "text/html": [
       "<div>\n",
       "<style scoped>\n",
       "    .dataframe tbody tr th:only-of-type {\n",
       "        vertical-align: middle;\n",
       "    }\n",
       "\n",
       "    .dataframe tbody tr th {\n",
       "        vertical-align: top;\n",
       "    }\n",
       "\n",
       "    .dataframe thead th {\n",
       "        text-align: right;\n",
       "    }\n",
       "</style>\n",
       "<table border=\"1\" class=\"dataframe\">\n",
       "  <thead>\n",
       "    <tr style=\"text-align: right;\">\n",
       "      <th></th>\n",
       "      <th>x</th>\n",
       "      <th>y</th>\n",
       "      <th>sum_xy</th>\n",
       "      <th>sqr_x</th>\n",
       "    </tr>\n",
       "  </thead>\n",
       "  <tbody>\n",
       "    <tr>\n",
       "      <th>0</th>\n",
       "      <td>1</td>\n",
       "      <td>1.5</td>\n",
       "      <td>1.5</td>\n",
       "      <td>1</td>\n",
       "    </tr>\n",
       "    <tr>\n",
       "      <th>1</th>\n",
       "      <td>2</td>\n",
       "      <td>3.8</td>\n",
       "      <td>7.6</td>\n",
       "      <td>4</td>\n",
       "    </tr>\n",
       "    <tr>\n",
       "      <th>2</th>\n",
       "      <td>3</td>\n",
       "      <td>6.7</td>\n",
       "      <td>20.1</td>\n",
       "      <td>9</td>\n",
       "    </tr>\n",
       "    <tr>\n",
       "      <th>3</th>\n",
       "      <td>4</td>\n",
       "      <td>9.6</td>\n",
       "      <td>38.4</td>\n",
       "      <td>16</td>\n",
       "    </tr>\n",
       "    <tr>\n",
       "      <th>4</th>\n",
       "      <td>5</td>\n",
       "      <td>11.2</td>\n",
       "      <td>56.0</td>\n",
       "      <td>25</td>\n",
       "    </tr>\n",
       "    <tr>\n",
       "      <th>5</th>\n",
       "      <td>6</td>\n",
       "      <td>13.6</td>\n",
       "      <td>81.6</td>\n",
       "      <td>36</td>\n",
       "    </tr>\n",
       "    <tr>\n",
       "      <th>6</th>\n",
       "      <td>7</td>\n",
       "      <td>16.0</td>\n",
       "      <td>112.0</td>\n",
       "      <td>49</td>\n",
       "    </tr>\n",
       "  </tbody>\n",
       "</table>\n",
       "</div>"
      ],
      "text/plain": [
       "   x     y  sum_xy  sqr_x\n",
       "0  1   1.5     1.5      1\n",
       "1  2   3.8     7.6      4\n",
       "2  3   6.7    20.1      9\n",
       "3  4   9.6    38.4     16\n",
       "4  5  11.2    56.0     25\n",
       "5  6  13.6    81.6     36\n",
       "6  7  16.0   112.0     49"
      ]
     },
     "execution_count": 80,
     "metadata": {},
     "output_type": "execute_result"
    }
   ],
   "source": [
    "df['sum_xy']=df['x']*df['y']\n",
    "df['sqr_x']=df['x']**2\n",
    "df"
   ]
  },
  {
   "cell_type": "code",
   "execution_count": 81,
   "id": "f5b53434",
   "metadata": {},
   "outputs": [
    {
     "data": {
      "text/plain": [
       "(28, 62.4, 317.2, 140, 784, 7)"
      ]
     },
     "execution_count": 81,
     "metadata": {},
     "output_type": "execute_result"
    }
   ],
   "source": [
    "sum_x=df['x'].sum()\n",
    "sum_y=df['y'].sum()\n",
    "sum_xy=df['sum_xy'].sum()\n",
    "sum_sqr_x=df['sqr_x'].sum()\n",
    "sum_x_h_2=sum_x **2\n",
    "n=len(df)\n",
    "sum_x,sum_y,sum_xy,sum_sqr_x,sum_x_h_2,n\n"
   ]
  },
  {
   "cell_type": "code",
   "execution_count": 82,
   "id": "e561aac1",
   "metadata": {},
   "outputs": [
    {
     "data": {
      "text/plain": [
       "473.20000000000005"
      ]
     },
     "execution_count": 82,
     "metadata": {},
     "output_type": "execute_result"
    }
   ],
   "source": [
    "numerator = (n*sum_xy) - (sum_x*sum_y)\n",
    "numerator"
   ]
  },
  {
   "cell_type": "code",
   "execution_count": 83,
   "id": "90c7d3f3",
   "metadata": {},
   "outputs": [
    {
     "data": {
      "text/plain": [
       "196"
      ]
     },
     "execution_count": 83,
     "metadata": {},
     "output_type": "execute_result"
    }
   ],
   "source": [
    "denominator = (n*sum_sqr_x) - sum_x_h_2\n",
    "denominator"
   ]
  },
  {
   "cell_type": "code",
   "execution_count": 84,
   "id": "197cb8a2",
   "metadata": {},
   "outputs": [
    {
     "data": {
      "text/plain": [
       "2.4142857142857146"
      ]
     },
     "execution_count": 84,
     "metadata": {},
     "output_type": "execute_result"
    }
   ],
   "source": [
    "m=numerator/denominator\n",
    "m"
   ]
  },
  {
   "cell_type": "markdown",
   "id": "288e7541",
   "metadata": {},
   "source": [
    "## finding b\n",
    "\n",
    "$$\\frac{\\sum_{i=0}^{n}Y_{i}-m*\\sum_{i=0}^{n}X_{i}}{n}$$"
   ]
  },
  {
   "cell_type": "code",
   "execution_count": 85,
   "id": "a4ad1f52",
   "metadata": {},
   "outputs": [
    {
     "data": {
      "text/plain": [
       "(28, 62.4, 7, 2.4142857142857146)"
      ]
     },
     "execution_count": 85,
     "metadata": {},
     "output_type": "execute_result"
    }
   ],
   "source": [
    "sum_x,sum_y,n,m"
   ]
  },
  {
   "cell_type": "code",
   "execution_count": 86,
   "id": "5db73481",
   "metadata": {},
   "outputs": [
    {
     "data": {
      "text/plain": [
       "-0.7428571428571443"
      ]
     },
     "execution_count": 86,
     "metadata": {},
     "output_type": "execute_result"
    }
   ],
   "source": [
    "numerator_b = ((sum_y)-(m*sum_x))\n",
    "denominator_b=n\n",
    "b=numerator_b/denominator_b\n",
    "b"
   ]
  },
  {
   "cell_type": "code",
   "execution_count": 87,
   "id": "1f83a3d8",
   "metadata": {},
   "outputs": [
    {
     "name": "stdout",
     "output_type": "stream",
     "text": [
      "m value is: 2.4142857142857146\n",
      "b value is: -0.7428571428571443\n"
     ]
    }
   ],
   "source": [
    "print('m value is:',m)\n",
    "print('b value is:',b)"
   ]
  },
  {
   "cell_type": "code",
   "execution_count": 88,
   "id": "34232c55",
   "metadata": {},
   "outputs": [
    {
     "data": {
      "text/plain": [
       "[1.6714285714285704,\n",
       " 4.0857142857142845,\n",
       " 6.499999999999999,\n",
       " 8.914285714285715,\n",
       " 11.32857142857143,\n",
       " 13.742857142857144,\n",
       " 16.15714285714286]"
      ]
     },
     "execution_count": 88,
     "metadata": {},
     "output_type": "execute_result"
    }
   ],
   "source": [
    "y_pred = [(m*x_val) + b for x_val in df['x']]\n",
    "y_pred"
   ]
  },
  {
   "cell_type": "code",
   "execution_count": 89,
   "id": "66533873",
   "metadata": {},
   "outputs": [
    {
     "data": {
      "text/html": [
       "<div>\n",
       "<style scoped>\n",
       "    .dataframe tbody tr th:only-of-type {\n",
       "        vertical-align: middle;\n",
       "    }\n",
       "\n",
       "    .dataframe tbody tr th {\n",
       "        vertical-align: top;\n",
       "    }\n",
       "\n",
       "    .dataframe thead th {\n",
       "        text-align: right;\n",
       "    }\n",
       "</style>\n",
       "<table border=\"1\" class=\"dataframe\">\n",
       "  <thead>\n",
       "    <tr style=\"text-align: right;\">\n",
       "      <th></th>\n",
       "      <th>x</th>\n",
       "      <th>y</th>\n",
       "      <th>sum_xy</th>\n",
       "      <th>sqr_x</th>\n",
       "      <th>y_pred</th>\n",
       "    </tr>\n",
       "  </thead>\n",
       "  <tbody>\n",
       "    <tr>\n",
       "      <th>0</th>\n",
       "      <td>1</td>\n",
       "      <td>1.5</td>\n",
       "      <td>1.5</td>\n",
       "      <td>1</td>\n",
       "      <td>1.671429</td>\n",
       "    </tr>\n",
       "    <tr>\n",
       "      <th>1</th>\n",
       "      <td>2</td>\n",
       "      <td>3.8</td>\n",
       "      <td>7.6</td>\n",
       "      <td>4</td>\n",
       "      <td>4.085714</td>\n",
       "    </tr>\n",
       "    <tr>\n",
       "      <th>2</th>\n",
       "      <td>3</td>\n",
       "      <td>6.7</td>\n",
       "      <td>20.1</td>\n",
       "      <td>9</td>\n",
       "      <td>6.500000</td>\n",
       "    </tr>\n",
       "    <tr>\n",
       "      <th>3</th>\n",
       "      <td>4</td>\n",
       "      <td>9.6</td>\n",
       "      <td>38.4</td>\n",
       "      <td>16</td>\n",
       "      <td>8.914286</td>\n",
       "    </tr>\n",
       "    <tr>\n",
       "      <th>4</th>\n",
       "      <td>5</td>\n",
       "      <td>11.2</td>\n",
       "      <td>56.0</td>\n",
       "      <td>25</td>\n",
       "      <td>11.328571</td>\n",
       "    </tr>\n",
       "    <tr>\n",
       "      <th>5</th>\n",
       "      <td>6</td>\n",
       "      <td>13.6</td>\n",
       "      <td>81.6</td>\n",
       "      <td>36</td>\n",
       "      <td>13.742857</td>\n",
       "    </tr>\n",
       "    <tr>\n",
       "      <th>6</th>\n",
       "      <td>7</td>\n",
       "      <td>16.0</td>\n",
       "      <td>112.0</td>\n",
       "      <td>49</td>\n",
       "      <td>16.157143</td>\n",
       "    </tr>\n",
       "  </tbody>\n",
       "</table>\n",
       "</div>"
      ],
      "text/plain": [
       "   x     y  sum_xy  sqr_x     y_pred\n",
       "0  1   1.5     1.5      1   1.671429\n",
       "1  2   3.8     7.6      4   4.085714\n",
       "2  3   6.7    20.1      9   6.500000\n",
       "3  4   9.6    38.4     16   8.914286\n",
       "4  5  11.2    56.0     25  11.328571\n",
       "5  6  13.6    81.6     36  13.742857\n",
       "6  7  16.0   112.0     49  16.157143"
      ]
     },
     "execution_count": 89,
     "metadata": {},
     "output_type": "execute_result"
    }
   ],
   "source": [
    "df['y_pred'] = [(m*x_val) +b for x_val in df['x']]\n",
    "df"
   ]
  },
  {
   "cell_type": "markdown",
   "id": "5f3a56cc",
   "metadata": {},
   "source": [
    "## SQUARED ERROR\n",
    "\n",
    "$$\\sum_{i=0}^{n}(y_{org}-y_{pred})^{2}$$"
   ]
  },
  {
   "cell_type": "code",
   "execution_count": 90,
   "id": "73865931",
   "metadata": {},
   "outputs": [
    {
     "data": {
      "text/plain": [
       "0.09755102040816321"
      ]
     },
     "execution_count": 90,
     "metadata": {},
     "output_type": "execute_result"
    }
   ],
   "source": [
    "se = sum([(yorg -ypred)**2 for yorg, ypred in zip(df['y'],df['y_pred'])])/n\n",
    "se"
   ]
  },
  {
   "cell_type": "markdown",
   "id": "648f2129",
   "metadata": {},
   "source": [
    "## Linear Regression in OOPS"
   ]
  },
  {
   "cell_type": "code",
   "execution_count": 91,
   "id": "1013aa07",
   "metadata": {},
   "outputs": [],
   "source": [
    "class linear_regression:\n",
    "    def __init__(self,df):\n",
    "        self.n=len(df)\n",
    "        self.sum_x=df['x'].sum()\n",
    "        self.sum_y=df['y'].sum()\n",
    "        self.sum_xy=df['sum_xy'].sum()\n",
    "        self.sum_sqr_x=df['sqr_x'].sum()\n",
    "        self.sum_x_h_2=sum_x **2\n",
    "        \n",
    "    \n",
    "    def m_val(self,n,sum_x,sum_y,sum_xy,sum_x2,sum_x_h_2):\n",
    "        self.numerator_m = n*((sum_xy)) - (sum_x)*(sum_y)\n",
    "        self.denominator_m = n*(sum_x2) - (sum_x_h_2)\n",
    "        self.m = self.numerator_m / self.denominator_m\n",
    "        return self.m\n",
    "    \n",
    "    def b_val(self,n,sum_x,sum_y):\n",
    "        self.numerator_b=(sum_y)-m*(sum_x)\n",
    "        self.denominator_b=n\n",
    "        self.b=self.numerator_b/self.denominator_b\n",
    "        return self.b\n",
    "    \n",
    "    def fit_train(self,m,b,df):\n",
    "        self.y_pred = [(m*x_val) + b  for x_val in df['x']]\n",
    "        return self.y_pred\n",
    "    \n",
    "    def mse_val (self,df,y_pred):\n",
    "        diff1=[]\n",
    "        for y_org, y_pred in zip(df['y'],y_pred):\n",
    "            diff=(y_org - y_pred) **2\n",
    "            diff1.append(diff)\n",
    "            sse=sum(diff1)\n",
    "            mse=sse/n\n",
    "            return mse\n",
    "        \n",
    "    def mae_val(self,df,y_pred):\n",
    "        diff1=[]\n",
    "        \n",
    "        for y_org, y_pred in zip(df['y'],y_pred):\n",
    "            \n",
    "            diff = abs(y_org - y_pred)\n",
    "            diff1.append(diff)\n",
    "            \n",
    "        ss2 = sum(diff1)\n",
    "        mae = ss2/n\n",
    "        return mae"
   ]
  },
  {
   "cell_type": "code",
   "execution_count": 92,
   "id": "882375d9",
   "metadata": {},
   "outputs": [
    {
     "name": "stdout",
     "output_type": "stream",
     "text": [
      "m value is: 2.4142857142857146\n"
     ]
    }
   ],
   "source": [
    "obj_m = linear_regression(df)\n",
    "obj_m.m_val(n,sum_x,sum_y,sum_xy,sum_sqr_x,sum_x_h_2)\n",
    "print('m value is:',m)"
   ]
  },
  {
   "cell_type": "code",
   "execution_count": 93,
   "id": "c3148de8",
   "metadata": {},
   "outputs": [
    {
     "name": "stdout",
     "output_type": "stream",
     "text": [
      "y predict values is: [1.6714285714285704, 4.0857142857142845, 6.499999999999999, 8.914285714285715, 11.32857142857143, 13.742857142857144, 16.15714285714286]\n"
     ]
    }
   ],
   "source": [
    "obj_y_pred=linear_regression(df)\n",
    "obj_y_pred.fit_train(m,b,df)\n",
    "print('y predict values is:',y_pred)"
   ]
  },
  {
   "cell_type": "code",
   "execution_count": 94,
   "id": "2f15b929",
   "metadata": {},
   "outputs": [
    {
     "name": "stdout",
     "output_type": "stream",
     "text": [
      "m value is: -0.7428571428571443\n"
     ]
    }
   ],
   "source": [
    "obj_b = linear_regression(df)\n",
    "obj_b.b_val(n,sum_x,sum_y)\n",
    "print('m value is:',b)"
   ]
  },
  {
   "cell_type": "code",
   "execution_count": 95,
   "id": "b8dc85f9",
   "metadata": {},
   "outputs": [
    {
     "name": "stdout",
     "output_type": "stream",
     "text": [
      "mean square error value: 0.004198250728862922\n"
     ]
    }
   ],
   "source": [
    "obj_mse = linear_regression(df)\n",
    "mse = obj_mse.mse_val(df,y_pred)\n",
    "print('mean square error value:',mse)"
   ]
  },
  {
   "cell_type": "code",
   "execution_count": 96,
   "id": "a7651eab",
   "metadata": {},
   "outputs": [
    {
     "name": "stdout",
     "output_type": "stream",
     "text": [
      "mean absolute error value: 0.25306122448979623\n"
     ]
    }
   ],
   "source": [
    "obj_mae = linear_regression(df)\n",
    "mae = obj_mae.mae_val(df,y_pred)\n",
    "print('mean absolute error value:',mae)"
   ]
  },
  {
   "cell_type": "code",
   "execution_count": 97,
   "id": "c2de9da0",
   "metadata": {},
   "outputs": [
    {
     "data": {
      "image/png": "[encoded data removed]",
      "text/plain": [
       "<Figure size 432x288 with 1 Axes>"
      ]
     },
     "metadata": {
      "needs_background": "light"
     },
     "output_type": "display_data"
    }
   ],
   "source": [
    "x_val = df['x']\n",
    "y_org = df['y']\n",
    "y_pre = y_pred\n",
    "\n",
    "plt.plot(x_val,y_org,color='g')\n",
    "plt.scatter(x_val,y_org,label='blue=original_val')\n",
    "plt.scatter(x_val,y_pred,label='orange=pred_val')\n",
    "plt.title(\"Linear Regression\")\n",
    "plt.legend()\n",
    "plt.show()"
   ]
  },
  {
   "cell_type": "code",
   "execution_count": null,
   "id": "e18f83d5",
   "metadata": {},
   "outputs": [],
   "source": []
  }
 ],
 "metadata": {
  "kernelspec": {
   "display_name": "Python 3 (ipykernel)",
   "language": "python",
   "name": "python3"
  },
  "language_info": {
   "codemirror_mode": {
    "name": "ipython",
    "version": 3
   },
   "file_extension": ".py",
   "mimetype": "text/x-python",
   "name": "python",
   "nbconvert_exporter": "python",
   "pygments_lexer": "ipython3",
   "version": "3.9.7"
  }
 },
 "nbformat": 4,
 "nbformat_minor": 5
}
